{
 "cells": [
  {
   "cell_type": "markdown",
   "metadata": {},
   "source": [
    "100 exercícios Python - Curso em Vídeo"
   ]
  },
  {
   "cell_type": "code",
   "execution_count": 3,
   "metadata": {},
   "outputs": [
    {
     "name": "stdout",
     "output_type": "stream",
     "text": [
      "Insira seu nome: \n",
      "Boas vindas,  Ana\n",
      "Olá, mundo!\n"
     ]
    }
   ],
   "source": [
    "# Crie um programa que escreva \"Olá, mundo\" na tela.\n",
    "print('Olá, mundo!')\n"
   ]
  },
  {
   "cell_type": "code",
   "execution_count": 5,
   "metadata": {},
   "outputs": [
    {
     "name": "stdout",
     "output_type": "stream",
     "text": [
      "Insira seu nome: \n",
      "Boas vindas, Ana\n"
     ]
    }
   ],
   "source": [
    "# Faça um programa que leia o nome de uma pessoa e mostre uma mensagem de boas-vindas.\n",
    "nome = input(print('Insira seu nome: '))\n",
    "print('Boas vindas,', nome)\n"
   ]
  },
  {
   "cell_type": "code",
   "execution_count": 13,
   "metadata": {},
   "outputs": [
    {
     "name": "stdout",
     "output_type": "stream",
     "text": [
      "A soma entre 2 e 3 é 5\n"
     ]
    }
   ],
   "source": [
    "# Crie um programa que leia dois números e mostre a soma entre eles.\n",
    "num1 = int(input(('Insira um número:')))\n",
    "num2 = int(input(('Insira outro número:')))\n",
    "\n",
    "soma = num1 + num2\n",
    "\n",
    "print('A soma entre {} e {} é {}'.format(num1, num2, soma))"
   ]
  },
  {
   "cell_type": "code",
   "execution_count": 27,
   "metadata": {},
   "outputs": [
    {
     "name": "stdout",
     "output_type": "stream",
     "text": [
      "O tipo primitivo desse valor é <class 'str'>\n",
      "Só tem espaços? False\n",
      "É numérico? False\n",
      "É alfabético? False\n",
      "É alfanumérico? False\n",
      "Está somente em maiúsculo? False\n",
      "Está somente em minúsculo? False\n",
      "Está capitalizada? False\n"
     ]
    }
   ],
   "source": [
    "# Faça um programa que leia algo pelo teclado e mostre na tela o seu tipo primitivo e todas as informações possíveis\n",
    "# sobre ele.\n",
    "\n",
    "entrada = input('Digite algo:')\n",
    "\n",
    "print(\"O tipo primitivo desse valor é\", type(entrada))\n",
    "print('Só tem espaços?', entrada.isspace())\n",
    "print('É numérico?', entrada.isnumeric())\n",
    "print('É alfabético?', entrada.isalpha())\n",
    "print('É alfanumérico?' ,entrada.isalnum())\n",
    "print('Está somente em maiúsculo?', entrada.isupper())\n",
    "print('Está somente em minúsculo?' ,entrada.islower())\n",
    "print('Está capitalizada?', entrada.istitle())"
   ]
  },
  {
   "cell_type": "code",
   "execution_count": 28,
   "metadata": {},
   "outputs": [
    {
     "name": "stdout",
     "output_type": "stream",
     "text": [
      "Seu número é 2, o antecessor é 1 e o sucessor é 3\n"
     ]
    }
   ],
   "source": [
    "# Faça um programa que leia um número inteiro e mostre na tela o seu sucessor e seu antecessor\n",
    "x = int(input('Insira um número: '))\n",
    "antecessor = x - 1\n",
    "sucessor = x + 1\n",
    "print('Seu número é {}, o antecessor é {} e o sucessor é {}'.format(x, antecessor, sucessor))"
   ]
  },
  {
   "cell_type": "code",
   "execution_count": 32,
   "metadata": {},
   "outputs": [
    {
     "name": "stdout",
     "output_type": "stream",
     "text": [
      "O dobro do valor 3.0 é 6.0\n",
      "O triplo do valor 3.0 é 9.0\n",
      "A raiz quadrada do valor 3.0 é 1.7320508075688772\n"
     ]
    }
   ],
   "source": [
    "# Crie um algoritmo que leia um número e mostre o seu dobro, triplo e raiz quadrada\n",
    "import math \n",
    "x = float(input('Insira um número: '))\n",
    "dobro = x * 2\n",
    "triplo = x * 3\n",
    "raiz = math.sqrt(x)\n",
    "print('O dobro do valor {} é {}'.format(x, dobro))\n",
    "print('O triplo do valor {} é {}'.format(x, triplo))\n",
    "print('A raiz quadrada do valor {} é {}'.format(x, raiz))"
   ]
  },
  {
   "cell_type": "code",
   "execution_count": 33,
   "metadata": {},
   "outputs": [
    {
     "name": "stdout",
     "output_type": "stream",
     "text": [
      "Sua média é: 9.0\n"
     ]
    }
   ],
   "source": [
    "# Desenvolva um programa que leia as duas notas de um aluno, calcule e mostre a sua média\n",
    "nota1 = float(input('Insira a primeira nota:'))\n",
    "nota2 = float(input('Insira a segunda nota:'))\n",
    "media = (nota1 + nota2) / 2\n",
    "print('Sua média é:', media)"
   ]
  },
  {
   "cell_type": "code",
   "execution_count": 34,
   "metadata": {},
   "outputs": [
    {
     "name": "stdout",
     "output_type": "stream",
     "text": [
      "Seu valor em centímetros é:  1000.0\n",
      "Seu valor em milímetros é:  10000.0\n"
     ]
    }
   ],
   "source": [
    "# Escreva um programa que leia um valor em metros e o exiba convertido em centímetros e milímetros\n",
    "x = float(input('Insira um valor em metros:'))\n",
    "cm = x * 100\n",
    "mm = x * 1000\n",
    "print(\"Seu valor em centímetros é: \", cm)\n",
    "print(\"Seu valor em milímetros é: \", mm)"
   ]
  },
  {
   "cell_type": "code",
   "execution_count": 39,
   "metadata": {},
   "outputs": [
    {
     "name": "stdout",
     "output_type": "stream",
     "text": [
      "2 x 0 = 0\n",
      "2 x 1 = 2\n",
      "2 x 2 = 4\n",
      "2 x 3 = 6\n",
      "2 x 4 = 8\n",
      "2 x 5 = 10\n",
      "2 x 6 = 12\n",
      "2 x 7 = 14\n",
      "2 x 8 = 16\n",
      "2 x 9 = 18\n",
      "2 x 10 = 20\n"
     ]
    }
   ],
   "source": [
    "# Faça um programa que leia um número inteiro e qualquer e mostre na tela a sua tabuada\n",
    "x = int(input('Insira um número:'))\n",
    "for i in range(11):\n",
    "    print('{} x {} = {}'.format(x, i, x * i))"
   ]
  },
  {
   "cell_type": "code",
   "execution_count": 43,
   "metadata": {},
   "outputs": [
    {
     "name": "stdout",
     "output_type": "stream",
     "text": [
      "Você pode comprar US$: 6.71\n"
     ]
    }
   ],
   "source": [
    "# Crie um programa que leia quanto dinheiro uma pessoa tem na carteira e mostre quantos dólares ela pode comprar\n",
    "# Cotação do dólar: R$5,07\n",
    "x = float(input('Digite sua quantia total de reais (R$):'))\n",
    "dolar = x / 5.07\n",
    "round_dolar = round(dolar, 2)\n",
    "print('Você pode comprar US$:',round_dolar)"
   ]
  },
  {
   "cell_type": "code",
   "execution_count": 44,
   "metadata": {},
   "outputs": [
    {
     "name": "stdout",
     "output_type": "stream",
     "text": [
      "A área da parece é de 4.375m²\n",
      "Será necessário 2.1875 litros de tinta para pintar a parede\n"
     ]
    }
   ],
   "source": [
    "# Faça um programa que leia a largura e a altura de uma parede em metros, calcule sua área e a quantidade de\n",
    "# tinta necessária para pintá-la, sabendo que cada litro de tinta pinta uma área de 2m²\n",
    "lar = float(input('Insira a largura da parede em metros:'))\n",
    "alt = float(input('Insira a altura da parede em metros:'))\n",
    "\n",
    "area = lar * alt\n",
    "tinta = area / 2\n",
    "\n",
    "print('A área da parece é de {}m²'.format(area))\n",
    "print('Será necessário {} litros de tinta para pintar a parede'.format(tinta)) "
   ]
  },
  {
   "cell_type": "code",
   "execution_count": 1,
   "metadata": {},
   "outputs": [
    {
     "name": "stdout",
     "output_type": "stream",
     "text": [
      "O valor do produto com desconto é R$ 47.5\n"
     ]
    }
   ],
   "source": [
    "# Faça um algoritmo que leia o preço de um produto e mostre seu novo preço com 5% de desconto\n",
    "preco = float(input('Insira o valor do produto:'))\n",
    "\n",
    "desconto = preco - (preco * 0.05)\n",
    "\n",
    "print('O valor do produto com desconto é R$', desconto)"
   ]
  },
  {
   "cell_type": "code",
   "execution_count": 8,
   "metadata": {},
   "outputs": [
    {
     "name": "stdout",
     "output_type": "stream",
     "text": [
      "Sendo o atual salário R$5000.0, com 15% de aumento o salário reajustado é de R$5750.0\n"
     ]
    }
   ],
   "source": [
    "# Faça um algoritmo que leia o salário de um funcionário e mostre seu novo salário, com 15% de aumento\n",
    "salario1 = float(input('Insira o atual salário do funcionário:'))\n",
    "\n",
    "salario2 = salario1 + (salario1 * 0.15)\n",
    "\n",
    "print('Sendo o atual salário R${}, com 15% de aumento o salário reajustado é de R${}'.format(salario1, salario2))"
   ]
  },
  {
   "cell_type": "code",
   "execution_count": 9,
   "metadata": {},
   "outputs": [
    {
     "name": "stdout",
     "output_type": "stream",
     "text": [
      "Sendo a temperatura em ºC 30.0º, a temperatura em ºF é 86.0º\n"
     ]
    }
   ],
   "source": [
    "# Escreva um programa que converta uma temperatura digitada em ºC para ºF\n",
    "c = float(input('Digite a temperatura em ºC:'))\n",
    "\n",
    "f = ((9*c)/5) + 32\n",
    "\n",
    "print('Sendo a temperatura em ºC {}º, a temperatura em ºF é {}º'.format(c, f))"
   ]
  },
  {
   "cell_type": "code",
   "execution_count": 10,
   "metadata": {},
   "outputs": [
    {
     "name": "stdout",
     "output_type": "stream",
     "text": [
      "O carro foi alugado por 3 dias e percorreu 400.0km. O valor final é de R$240.0\n"
     ]
    }
   ],
   "source": [
    "# Escreva um programa que pergunte a quantidade de Km percorridos por um carro alugado e a quantidade de dias pelos\n",
    "# quais ele foi alugado. Calcule o preço a pagar, sabendo que o carro custa R$60 por dia e R$0,15 por Km rodado\n",
    "km = float(input('Quantos Km foram percorridos com o carro no total?'))\n",
    "dias = int(input('Por quantos dias o carro foi alugado?'))\n",
    "\n",
    "preco = (0.15 * km) + (60 * dias)\n",
    "\n",
    "print('O carro foi alugado por {} dias e percorreu {}km. O valor final é de R${}'.format(dias, km, preco))"
   ]
  },
  {
   "cell_type": "code",
   "execution_count": 13,
   "metadata": {},
   "outputs": [
    {
     "name": "stdout",
     "output_type": "stream",
     "text": [
      "Para o valor 5.93409 a parte inteira é 5\n"
     ]
    }
   ],
   "source": [
    "# Crie um programa que leia um número Real qualquer pelo teclado e mostre na tela a sua porção inteira\n",
    "from math import trunc\n",
    "\n",
    "x = float(input('Insira qualquer valor Real:'))\n",
    "\n",
    "print('Para o valor {} a parte inteira é {}'.format(x, trunc(x)))\n"
   ]
  },
  {
   "cell_type": "code",
   "execution_count": 14,
   "metadata": {},
   "outputs": [
    {
     "name": "stdout",
     "output_type": "stream",
     "text": [
      "A hipotenusa do triângulo cujo catetos são 3.0 e 4.0 é 5.0\n"
     ]
    }
   ],
   "source": [
    "# Faça um programa que leia o comprimento do cateto oposto e do cateto adjacente de um triângulo retângulo,\n",
    "# calcule e mostre o comprimento da hipotenusa\n",
    "import math \n",
    "\n",
    "co = float(input('Insira o valor do cateto oposto do triângulo:'))\n",
    "ca = float(input('Insira o valor do cateto adjacente do triângulo:'))\n",
    "\n",
    "hip = math.sqrt((pow(co, 2) + pow(ca, 2)))\n",
    "\n",
    "print('A hipotenusa do triângulo cujo catetos são {} e {} é {}'.format(co, ca, hip))\n",
    "\n",
    "# Ao desenvolver essa solução, não conhecia a funçào hypot do módulo math"
   ]
  },
  {
   "cell_type": "code",
   "execution_count": 21,
   "metadata": {},
   "outputs": [
    {
     "name": "stdout",
     "output_type": "stream",
     "text": [
      "O seno de 30.0 é 0.50\n",
      "O cosseno de 30.0 é 0.87\n",
      "A tangente de 30.0 é 0.58\n"
     ]
    }
   ],
   "source": [
    "# Faça um programa que leia um ângulo qualquer e mostre na tela o valor do seno, cosseno e tangente do ângulo\n",
    "ang = float(input('Insira o valor de um ângulo:'))\n",
    "\n",
    "rad = math.radians(ang)\n",
    "sen = math.sin(rad)\n",
    "cos = math.cos(rad)\n",
    "tan = math.tan(rad)\n",
    "\n",
    "print('O seno de {:.1f} é {:.2f}'.format(ang, sen))\n",
    "print('O cosseno de {:.1f} é {:.2f}'.format(ang, cos))\n",
    "print('A tangente de {:.1f} é {:.2f}'.format(ang, tan))"
   ]
  },
  {
   "cell_type": "code",
   "execution_count": 23,
   "metadata": {},
   "outputs": [
    {
     "name": "stdout",
     "output_type": "stream",
     "text": [
      "O aluno sorteado foi louis\n"
     ]
    }
   ],
   "source": [
    "# Um professor quer sortear um dos seus quatro alunos para apagar o quadro. Faça um programa que ajude ele, lendo o nome\n",
    "# deles e escrevendo o nome do escolhido\n",
    "\n",
    "import random\n",
    "\n",
    "aluno1 = input('Insira o nome do primeiro aluno:')\n",
    "aluno2 = input('Insira o nome do segundo aluno:')\n",
    "aluno3 = input('Insira o nome do terceiro aluno:')\n",
    "aluno4 = input('Insira o nome do quarto aluno:')\n",
    "\n",
    "lista = [aluno1, aluno2, aluno3, aluno4]\n",
    "\n",
    "sorteio = random.choice(lista)\n",
    "\n",
    "print('O aluno sorteado foi {}'.format(sorteio))"
   ]
  },
  {
   "cell_type": "code",
   "execution_count": 4,
   "metadata": {},
   "outputs": [
    {
     "name": "stdout",
     "output_type": "stream",
     "text": [
      "A ordem do sorteio é:\n",
      "['louis', 'niall', 'harry', 'liam']\n"
     ]
    }
   ],
   "source": [
    "#  O mesmo professor do desafio anterior quer sortear a ordem de apresentação de trabalhos dos alunos. Faça um programa\n",
    "# que leia o nome dos quatro alunos e mostre a ordem sorteada.\n",
    "import random\n",
    "\n",
    "aluno1 = input('Insira o nome do primeiro aluno:')\n",
    "aluno2 = input('Insira o nome do segundo aluno:')\n",
    "aluno3 = input('Insira o nome do terceiro aluno:')\n",
    "aluno4 = input('Insira o nome do quarto aluno:')\n",
    "\n",
    "lista1 = [aluno1, aluno2, aluno3, aluno4]\n",
    "\n",
    "random.shuffle(lista1)\n",
    "\n",
    "print('A ordem do sorteio é:')\n",
    "print(lista1)"
   ]
  },
  {
   "cell_type": "code",
   "execution_count": 7,
   "metadata": {},
   "outputs": [
    {
     "ename": "ModuleNotFoundError",
     "evalue": "No module named 'pygame'",
     "output_type": "error",
     "traceback": [
      "\u001b[1;31m---------------------------------------------------------------------------\u001b[0m",
      "\u001b[1;31mModuleNotFoundError\u001b[0m                       Traceback (most recent call last)",
      "\u001b[1;32m~\\AppData\\Local\\Temp\\ipykernel_21892\\3387047078.py\u001b[0m in \u001b[0;36m<module>\u001b[1;34m\u001b[0m\n\u001b[0;32m      1\u001b[0m \u001b[1;31m# Faça um programa em Python que abra e reproduza o áudio de um arquivo MP3\u001b[0m\u001b[1;33m\u001b[0m\u001b[1;33m\u001b[0m\u001b[0m\n\u001b[1;32m----> 2\u001b[1;33m \u001b[1;32mimport\u001b[0m \u001b[0mpygame\u001b[0m\u001b[1;33m\u001b[0m\u001b[1;33m\u001b[0m\u001b[0m\n\u001b[0m\u001b[0;32m      3\u001b[0m \u001b[1;33m\u001b[0m\u001b[0m\n\u001b[0;32m      4\u001b[0m \u001b[0mpygame\u001b[0m\u001b[1;33m.\u001b[0m\u001b[0mmixer\u001b[0m\u001b[1;33m.\u001b[0m\u001b[0minit\u001b[0m\u001b[1;33m(\u001b[0m\u001b[1;33m)\u001b[0m\u001b[1;33m\u001b[0m\u001b[1;33m\u001b[0m\u001b[0m\n\u001b[0;32m      5\u001b[0m \u001b[1;33m\u001b[0m\u001b[0m\n",
      "\u001b[1;31mModuleNotFoundError\u001b[0m: No module named 'pygame'"
     ]
    }
   ],
   "source": [
    "# Faça um programa em Python que abra e reproduza o áudio de um arquivo MP3\n",
    "import pygame\n",
    "\n",
    "pygame.mixer.init()\n",
    "\n",
    "pygame.mixer.music.load(\"Musica.mp3\")\n",
    "pygame.mixer.music.play()\n",
    "\n",
    "x = input('Digite algo para parar a música')\n",
    "\n",
    "# Não funcionou"
   ]
  },
  {
   "cell_type": "code",
   "execution_count": 22,
   "metadata": {},
   "outputs": [
    {
     "name": "stdout",
     "output_type": "stream",
     "text": [
      "O nome com letras maiúsculas é ANA JULIA\n",
      "O nome com letras minúsculas é ana julia\n",
      "O nome possui 8 letras\n",
      "O primeiro nome tem 3 letras\n"
     ]
    }
   ],
   "source": [
    "# Crie um programa que leia o nome completo de uma pessoa e mostre:\n",
    "# - O nome com todas as letras maiúsculas e minúsculas\n",
    "# - Quantas letras ao todo (sem considerar espaços)\n",
    "# - Quantas letras tem o primeiro nome\n",
    "nome = str(input('Digite seu nome completo')).strip()\n",
    "\n",
    "letras = len(nome)\n",
    "mai = nome.upper()\n",
    "min = nome.lower()\n",
    "espacos = nome.count(\" \")\n",
    "\n",
    "print('O nome com letras maiúsculas é', mai)\n",
    "print('O nome com letras minúsculas é', min)\n",
    "print(\"O nome possui {} letras\".format(letras - espacos))\n",
    "print('O primeiro nome tem {} letras'.format(nome.find(' ')))\n"
   ]
  },
  {
   "cell_type": "code",
   "execution_count": 38,
   "metadata": {},
   "outputs": [
    {
     "name": "stdout",
     "output_type": "stream",
     "text": [
      "Seu número é: 3412\n",
      "Unidade: 2\n",
      "Dezena: 10\n",
      "Centena: 400\n",
      "Milhar: 3000\n"
     ]
    }
   ],
   "source": [
    "# Faça um programa que leia um número de 0 a 9999 e mostre na tela cada um dos dígitos separados\n",
    "num = int(input('Insira um número inteiro entre 0 e 9999'))\n",
    "u = num //1 % 10\n",
    "d = (num % 100) - u\n",
    "c = (num % 1000) - d - u\n",
    "m = num - c - d - u\n",
    "\n",
    "print('Seu número é: {}'.format(num))\n",
    "print('Unidade: {}'.format (u))\n",
    "print('Dezena: {}'.format(d))\n",
    "print('Centena: {}'.format(c))\n",
    "print('Milhar: {}'.format(m))\n",
    "\n"
   ]
  },
  {
   "cell_type": "code",
   "execution_count": 103,
   "metadata": {},
   "outputs": [
    {
     "name": "stdout",
     "output_type": "stream",
     "text": [
      "True\n"
     ]
    }
   ],
   "source": [
    "# Crie um programa que leia o nome de uma cidade e diga se ela começa ou não com o nome \"Santo\"\n",
    "\n",
    "cid = input('Digite o nome de uma cidade:').strip().capitalize()\n",
    "\n",
    "palavras = cid.split(sep=\" \")\n",
    "\n",
    "if palavras[0] == 'Santo':\n",
    "    print(True)\n",
    "else:\n",
    "    print(False)"
   ]
  },
  {
   "cell_type": "code",
   "execution_count": 108,
   "metadata": {},
   "outputs": [
    {
     "name": "stdout",
     "output_type": "stream",
     "text": [
      "False\n"
     ]
    }
   ],
   "source": [
    "# Crie um programa que leia o nome de uma pessoa e diga se ela tem \"silva\" no nome\n",
    "\n",
    "nome = str(input('Digite seu nome completo:')).strip().lower().split()\n",
    "\n",
    "if \"silva\" in nome:\n",
    "     print(True)\n",
    "else:\n",
    "     print(False)\n"
   ]
  },
  {
   "cell_type": "code",
   "execution_count": 127,
   "metadata": {},
   "outputs": [
    {
     "name": "stdout",
     "output_type": "stream",
     "text": [
      "A frase possui 4 letras A\n",
      "A letra A aparece pela primeira vez na posição 1\n",
      "A letra A aparece pela última vez na posição 7\n"
     ]
    }
   ],
   "source": [
    "# Faça um programa que leia uma frase pelo teclado e mostre:\n",
    "# Quantas vezes aparece a letra \"A\"\n",
    "# Em que posição ela aparece a primeira vez\n",
    "# Em que posição ela aparece a última vez\n",
    "\n",
    "frase = str(input(\"Insira uma frase:\")).strip().lower()\n",
    "\n",
    "print(\"A frase possui {} letras A\".format(frase.count('a')))\n",
    "print(\"A letra A aparece pela primeira vez na posição {}\".format(frase.find('a') + 1))\n",
    "print(\"A letra A aparece pela última vez na posição {}\".format(frase.rfind('a') + 1))"
   ]
  },
  {
   "cell_type": "code",
   "execution_count": 141,
   "metadata": {},
   "outputs": [
    {
     "name": "stdout",
     "output_type": "stream",
     "text": [
      "Nome completo: Gustavo Silva\n",
      "Primeiro nome: Gustavo\n",
      "Último nome: Silva\n"
     ]
    }
   ],
   "source": [
    "# Faça um programa que leia o nome completo de uma pessoa, mostrando em seguida o primeiro e o último nome separadamente.\n",
    "nome1 = str(input('Insira seu nome completo:')).title()\n",
    "nome2 = nome1.strip().split()\n",
    "\n",
    "print('Nome completo: {}'.format(nome1))\n",
    "print('Primeiro nome: {}'.format(nome2[0]))\n",
    "print('Último nome: {}'.format(nome2[-1]))"
   ]
  },
  {
   "cell_type": "code",
   "execution_count": 155,
   "metadata": {},
   "outputs": [
    {
     "name": "stdout",
     "output_type": "stream",
     "text": [
      "Você ERROU! Pensei no número 3 e você falou 6\n"
     ]
    }
   ],
   "source": [
    "# Escreva um programa que faça o computador \"pensar\" em um número inteiro entre 0 e 5 e peça para o usuário tentar descobrir qual foi \n",
    "# o número escolhido pelo computador. O programa deverá escrever na tela se o usuário venceu ou perdeu\n",
    "import random\n",
    "\n",
    "num = int(input(\"Tente adivinhar que número eu pensei, entre 0 e 5!\"))\n",
    "\n",
    "lista = [1, 2, 3, 4, 5]\n",
    "num_pc = random.choice(lista)\n",
    "\n",
    "if num == num_pc:\n",
    "    print('Você ACERTOU! Pensei no número {} e você também falou {}'.format(num_pc, num))\n",
    "else:\n",
    "    print('Você ERROU! Pensei no número {} e você falou {}'.format(num_pc, num))\n",
    "\n",
    "\n"
   ]
  },
  {
   "cell_type": "code",
   "execution_count": 163,
   "metadata": {},
   "outputs": [
    {
     "name": "stdout",
     "output_type": "stream",
     "text": [
      "Por trafegar acima do limite de velocidade, você está multado.\n",
      "Limite de velocidade: 80km/h\n",
      "Sua velocidade: 90.0km/h\n",
      "Sua multa custará R$70.0,00\n"
     ]
    }
   ],
   "source": [
    "# Escreva um programa que leia a velocidade de um carro. Se ele ultrapassar 80mk/h, mostre uma mensagem dizendo que ele foi multado.\n",
    "# A multa vai custar R$7,00 por cada km acima do limite\n",
    "\n",
    "vel = float(input('Insira a velocidade do veículo:'))\n",
    "\n",
    "if vel > 80:\n",
    "    print(\"Por trafegar acima do limite de velocidade, você está multado.\")\n",
    "    print(\"Limite de velocidade: 80km/h\")\n",
    "    print(\"Sua velocidade: {}km/h\".format(vel))\n",
    "\n",
    "    multa = (vel - 80) * 7\n",
    "    print(\"Sua multa custará R${}\".format(multa))\n",
    "\n",
    "else:\n",
    "    print(\"Tenha um bom dia e dirija com cuidado\")"
   ]
  },
  {
   "cell_type": "code",
   "execution_count": 167,
   "metadata": {},
   "outputs": [
    {
     "name": "stdout",
     "output_type": "stream",
     "text": [
      "O número 12 é PAR\n"
     ]
    }
   ],
   "source": [
    "# Crie um programa que leia um número inteiro e mostre na tela se ele é PAR ou ÍMPAR\n",
    "\n",
    "num = int(input(\"Insira um número inteiro\"))\n",
    "\n",
    "if num % 2 == 0: \n",
    "    print(\"O número {} é PAR\".format(num))\n",
    "else:\n",
    "    print(\"O número {} é ÍMPAR\".format(num))"
   ]
  },
  {
   "cell_type": "code",
   "execution_count": 181,
   "metadata": {},
   "outputs": [
    {
     "name": "stdout",
     "output_type": "stream",
     "text": [
      "Por favor, insira o valor absoluto da viagem (maior que zero)\n"
     ]
    }
   ],
   "source": [
    "# Desenvolva um programa que pergunte a distância de uma viagem em km. Calcule o preço da passagem, cobrando R$0,50 por km para viagens\n",
    "# de até 200km e R$0,45 para viagens mais longas\n",
    "\n",
    "dist = float(input('Qual é a distância da sua viagem?'))\n",
    "\n",
    "if dist > 0:\n",
    "    if dist <= 200:\n",
    "        preco = dist * 0.5\n",
    "    else:\n",
    "        preco = dist * 0.45\n",
    "    print('O valor da sua passagem é de R${:.2f}'.format(preco))\n",
    "else:\n",
    "    print('Por favor, insira o valor absoluto da viagem (maior que zero)')\n",
    "\n"
   ]
  },
  {
   "cell_type": "code",
   "execution_count": 192,
   "metadata": {},
   "outputs": [
    {
     "name": "stdout",
     "output_type": "stream",
     "text": [
      "O ano 2022 não é bissexto\n"
     ]
    }
   ],
   "source": [
    "# Faça um programa que leia um ano qualquer e mostre se ele é BISSEXTO.\n",
    "\n",
    "ano = int(input('Insira um ano:'))\n",
    "\n",
    "if (ano % 4 == 0 and ano % 100 != 0) or (ano % 400 == 0):\n",
    "        print('O ano {} é bissexto'.format(ano))\n",
    "else:\n",
    "        print('O ano {} não é bissexto'.format(ano))"
   ]
  },
  {
   "cell_type": "code",
   "execution_count": 212,
   "metadata": {},
   "outputs": [
    {
     "name": "stdout",
     "output_type": "stream",
     "text": [
      "Número 1: 10.0\n",
      "Número 2: 8.0\n",
      "Número 3: 9.0\n",
      "O maior número é 10.0 e o menor número é 8.0\n"
     ]
    }
   ],
   "source": [
    "# Faça um programa que leia três números e mostre qual é o maior e qual é o menor\n",
    "\n",
    "a = float(input('Insira o primeiro número:'))\n",
    "print('Número 1: {}'.format(a))\n",
    "b = float(input('Insira o segundo número:'))\n",
    "print('Número 2: {}'.format(b))\n",
    "c = float(input('Insira o terceiro número:'))\n",
    "print('Número 3: {}'.format(c))\n",
    "\n",
    "menor = a \n",
    "\n",
    "if b < a and b < c:\n",
    "    menor = b\n",
    "if c < a and c < b:\n",
    "    menor = c\n",
    "\n",
    "maior = a\n",
    "\n",
    "if b > a and b > c:\n",
    "    maior = b\n",
    "if c > a and c > b:\n",
    "    maior = c\n",
    "\n",
    "print('O maior número é {} e o menor número é {}'.format(maior, menor))"
   ]
  },
  {
   "cell_type": "code",
   "execution_count": 214,
   "metadata": {},
   "outputs": [
    {
     "name": "stdout",
     "output_type": "stream",
     "text": [
      "O salário com aumento é: R$1138.5\n"
     ]
    }
   ],
   "source": [
    "# Escreva um programa que pergunte o salário de um funcionário e calcule o valor do seu aumento.\n",
    "# Para salários superiores a R$1250,00, calcule um aumento de 10%.\n",
    "# Para salários inferiores ou iguais, o aumento é de 15%\n",
    "\n",
    "salario = float(input(\"Insira o salário do funcionário:\"))\n",
    "\n",
    "if salario > 1250.00:\n",
    "    salario2 = (salario * 0.10) + salario\n",
    "else:\n",
    "    salario2 = (salario * 0.15) + salario\n",
    "\n",
    "print(\"O salário com aumento é: R${}\".format(salario2))"
   ]
  },
  {
   "cell_type": "code",
   "execution_count": 223,
   "metadata": {},
   "outputs": [
    {
     "name": "stdout",
     "output_type": "stream",
     "text": [
      "Lado 1: 3.0\n",
      "Lado 2: 8.5\n",
      "Lado 3: 4.0\n",
      "Os segmentos de reta NÃO podem formar um triângulo\n"
     ]
    }
   ],
   "source": [
    "# Desenvolva um programa que leia o comprimento de três retas e diga ao usuário se elas podem ou não formar um triângulo\n",
    "\n",
    "# Condição: a soma do comprimento de dois segmentos de reta sempre deve ser menor que o terceiro segmento\n",
    "\n",
    "lado1 = float(input('Insira o comprimento do primeiro segmento de reta:'))\n",
    "print('Lado 1: {}'.format(lado1))\n",
    "lado2 = float(input('Insira o comprimento do segundo segmento de reta:'))\n",
    "print('Lado 2: {}'.format(lado2))\n",
    "lado3 = float(input('Insira o comprimento do terceiro segmento de reta:'))\n",
    "print('Lado 3: {}'.format(lado3))\n",
    "\n",
    "if lado1 < lado2+ lado3 and lado2 < lado3 + lado1 and lado3 < lado1 + lado2:\n",
    "    print('Os segmentos de reta PODEM formar um triângulo')\n",
    "else:\n",
    "    print('Os segmentos de reta NÃO podem formar um triângulo')"
   ]
  },
  {
   "cell_type": "code",
   "execution_count": 230,
   "metadata": {},
   "outputs": [
    {
     "name": "stdout",
     "output_type": "stream",
     "text": [
      "Seu salário é 12000.0 e a prestação é 3333.33, portanto, o empréstimo foi APROVADO\n"
     ]
    }
   ],
   "source": [
    "# Escreva um programa para aprovar o empréstimo bancário para a compra de uma casa. Pergunte o valor da casa, o salário do comprador e em quantos\n",
    "# anos ele vai pagar. A prestação mensal não pode exceder 30% do salário ou então o empréstimo será negado. \n",
    "\n",
    "valor = float(input('Qual é o valor da casa?')) \n",
    "salario = float(input('Qual o seu salário?'))\n",
    "anos = int(input('EM quantos anos irá pagar?'))\n",
    "\n",
    "meses = anos * 12\n",
    "\n",
    "prestacao = valor / meses\n",
    "\n",
    "if prestacao > salario * 0.3:\n",
    "    print('Seu salário é {} e a prestação é {:.2f}, portanto, o empréstimo foi NEGADO'.format(salario, prestacao))\n",
    "else:\n",
    "    print('Seu salário é {} e a prestação é {:.2f}, portanto, o empréstimo foi APROVADO'.format(salario, prestacao))"
   ]
  },
  {
   "cell_type": "code",
   "execution_count": 238,
   "metadata": {},
   "outputs": [
    {
     "name": "stdout",
     "output_type": "stream",
     "text": [
      "O número 97 em hexadecimal é 0x61\n"
     ]
    }
   ],
   "source": [
    "# Escreva um programa que leia um número inteiro qualquer e peça para o usuário escolher qual será a base de conversão\n",
    "# 1 para binário, 2 para octal, 3 para hexadecimal\n",
    "\n",
    "num = 97\n",
    "\n",
    "base = int(input('Para qual base você quer converter?\\n1-Binário\\n2-Octal\\n3-Hexadecimal'))\n",
    "\n",
    "if base == 1:\n",
    "    print('O número {} em binário é {}'.format(num, bin(num)))\n",
    "elif base == 2: \n",
    "    print('O número {} em octal é {}'.format(num, oct(num)))\n",
    "elif base == 3:\n",
    "    print('O número {} em hexadecimal é {}'.format(num, hex(num)))\n",
    "else:\n",
    "    print('Insira um valor entre 1 e 3\\n1-Binário\\n2-Octal\\n3-Hexadecimal')"
   ]
  },
  {
   "cell_type": "code",
   "execution_count": 243,
   "metadata": {},
   "outputs": [
    {
     "name": "stdout",
     "output_type": "stream",
     "text": [
      "Não existe valor maior, os dois são iguais\n"
     ]
    }
   ],
   "source": [
    "# Escreva um programa que leia dois números inteiros e compare-os, mostrando na tela uma mensagem:\n",
    "# 1 - O primeiro valor é maior\n",
    "# 2 - O segundo valor é maior\n",
    "# Não existe valor maior, os dois são iguais\n",
    "\n",
    "primeiro = int(input('Insira o primeiro valor:'))\n",
    "segundo = int(input('Insira o segundo valor'))\n",
    "\n",
    "if primeiro > segundo:\n",
    "    print('O pimeiro valor é maior')\n",
    "elif segundo > primeiro:\n",
    "    print('O segundo valor é maior')\n",
    "else:\n",
    "    print('Não existe valor maior, os dois são iguais')"
   ]
  },
  {
   "cell_type": "code",
   "execution_count": 250,
   "metadata": {},
   "outputs": [
    {
     "name": "stdout",
     "output_type": "stream",
     "text": [
      "Seu período para alistamento já passou há 6 anos\n"
     ]
    }
   ],
   "source": [
    "# Façca um programa que leia o ano de nascimento de um jovem e informe, de acordo com sua idade, se ele ainda vai se alistar ao serviço\n",
    "# militar, se é a hora de se alistar ou se já passou do tempo do alistamento\n",
    "from datetime import date\n",
    "\n",
    "ano_nasc = int(input('Insira o ano em que você nasceu:'))\n",
    "\n",
    "data = date.today().year\n",
    "idade = data - ano_nasc\n",
    "\n",
    "if idade == 18:\n",
    "    print('Você deve se alistar agora')\n",
    "elif idade < 18:\n",
    "    print('Você deverá se alistar daqui {} anos'.format(18 - idade))\n",
    "else:\n",
    "    print('Seu período para alistamento já passou há {} anos'.format(idade - 18))\n",
    "\n"
   ]
  },
  {
   "cell_type": "code",
   "execution_count": 254,
   "metadata": {},
   "outputs": [
    {
     "name": "stdout",
     "output_type": "stream",
     "text": [
      "Sua média foi 6.00. Você está de RECUPERAÇÃO\n"
     ]
    }
   ],
   "source": [
    "# Crie um programa que leia duas notas de um aluno e calcule sua média, mostrando uma mensagem no final, de acordo com a média atingida\n",
    "# Média abaixo de 5.0 = reprovado\n",
    "# Média entre 5.0 e 6.9 = recuperação\n",
    "# Média 7.0 ou superior = aprovado\n",
    "\n",
    "nota1 = float(input('Insira a primeira nota:'))\n",
    "nota2 = float(input('Insira a segunda nota:'))\n",
    "\n",
    "media = (nota1 + nota2) / 2\n",
    "\n",
    "if media < 5.0:\n",
    "    print('Sua média foi {:.2f}. Você foi REPROVADO'.format(media))\n",
    "elif 5.0 <= media <= 6.9:\n",
    "    print('Sua média foi {:.2f}. Você está de RECUPERAÇÃO'.format(media))\n",
    "else:\n",
    "    print('Sua média foi {:.2f}. Você foi APROVADO'.format(media)) "
   ]
  },
  {
   "cell_type": "code",
   "execution_count": 258,
   "metadata": {},
   "outputs": [
    {
     "name": "stdout",
     "output_type": "stream",
     "text": [
      "Idade: 14\n",
      "Categoria: Infantil\n"
     ]
    }
   ],
   "source": [
    "# A confederação nacional de natação precisa de um programa que leia o ano de nascimento de um atleta e mostre sua categoria de acordo com a idade\n",
    "# Até 9 anos: mirim\n",
    "# Até 14 anos: infantil\n",
    "# Até 19 anos: júnior\n",
    "# Até 25 anos: sênior\n",
    "# Acima: master\n",
    "\n",
    "ano_nasc = int(input('Insira o ano de nascimento do atleta:'))\n",
    "\n",
    "data = date.today().year\n",
    "idade = data - ano_nasc\n",
    "\n",
    "if idade <= 9:\n",
    "    print('Idade: {}\\nCategoria: Mirim'.format(idade))\n",
    "elif 10 <= idade <= 14:\n",
    "    print('Idade: {}\\nCategoria: Infantil'.format(idade))\n",
    "elif 15 <= idade <= 19:\n",
    "    print('Idade: {}\\nCategoria: Júnior'.format(idade))\n",
    "elif 20 <= idade <= 25:\n",
    "    print('Idade: {}\\nCategoria: Sênior'.format(idade))\n",
    "else:\n",
    "    print('Idade: {}\\nCategoria: Master'.format(idade))\n"
   ]
  },
  {
   "cell_type": "code",
   "execution_count": 261,
   "metadata": {},
   "outputs": [
    {
     "name": "stdout",
     "output_type": "stream",
     "text": [
      "Lado 1: 3.0\n",
      "Lado 2: 2.0\n",
      "Lado 3: 1.0\n",
      "Os segmentos de reta NÃO podem formar um triângulo\n"
     ]
    }
   ],
   "source": [
    "# Refaça o desafio 35 dos triângulos, acrescentando o recurso de mostrar o tipo de triângulo que será formado:\n",
    "\n",
    "lado1 = float(input('Insira o comprimento do primeiro segmento de reta:'))\n",
    "print('Lado 1: {}'.format(lado1))\n",
    "lado2 = float(input('Insira o comprimento do segundo segmento de reta:'))\n",
    "print('Lado 2: {}'.format(lado2))\n",
    "lado3 = float(input('Insira o comprimento do terceiro segmento de reta:'))\n",
    "print('Lado 3: {}'.format(lado3))\n",
    "\n",
    "if lado1 < lado2+ lado3 and lado2 < lado3 + lado1 and lado3 < lado1 + lado2:\n",
    "    print('Os segmentos de reta PODEM formar um triângulo')\n",
    "    if lado1 == lado2 == lado3:\n",
    "        print('O triângulo será equilátero')\n",
    "    elif lado1 == lado2 or lado2 == lado3 or lado1 == lado3:\n",
    "        print('O triângulo será isosceles')\n",
    "    elif lado1 != lado2 and lado1 != lado3 and lado2 != lado3:\n",
    "        print('O trângulo será escaleno')\n",
    "else:\n",
    "    print('Os segmentos de reta NÃO podem formar um triângulo')\n",
    "\n",
    "\n"
   ]
  },
  {
   "cell_type": "code",
   "execution_count": 263,
   "metadata": {},
   "outputs": [
    {
     "name": "stdout",
     "output_type": "stream",
     "text": [
      "Seu IMC é 27.31. Você está acima do peso ideal.\n"
     ]
    }
   ],
   "source": [
    "# Desenvolva uma lógica que leia o peso e a altura de uma pessoa, calcule seu IMC e mostre seu status, de acordo com a tabela abaixo\n",
    "# - Abaixo de 18.5: abaixo do peso; -Entre 18.5 e 25: Peso ideal; - 25 até 30: sobrepeso; -30 até 40: obesidade; - acima de 40: obesidade mórbida\n",
    "\n",
    "peso = float(input('Qual é o seu peso em kg?'))\n",
    "altura = float(input('Qual é a sua altura em m?'))\n",
    "\n",
    "imc = peso / (altura ** 2)\n",
    "\n",
    "if imc < 18.5: \n",
    "    print('Seu IMC é {:.2f}. Você está abaixo do peso ideal.'.format(imc))\n",
    "elif 18.5 <= imc < 25:\n",
    "    print('Seu IMC é {:.2f}. Você está com o peso ideal.'.format(imc)) \n",
    "elif 25 <= imc < 30:\n",
    "    print('Seu IMC é {:.2f}. Você está acima do peso ideal.'.format(imc))\n",
    "elif 30 <= imc < 40:\n",
    "    print('Seu IMC é {:.2f}. Você está na faixa de obesidade.'.format(imc))\n",
    "else:\n",
    "    print('Seu IMC é {:.2f}. Você está com obesidade mórbida.'.format(imc))"
   ]
  },
  {
   "cell_type": "code",
   "execution_count": 270,
   "metadata": {},
   "outputs": [
    {
     "name": "stdout",
     "output_type": "stream",
     "text": [
      "O valor a ser pago é de R$120.0, com 5 parcelas no valor de R$24.0\n"
     ]
    }
   ],
   "source": [
    "# Elabore um programa que calcule o valor a ser pago por um produto, considerando o seu preço normal e condição de pagamento\n",
    "# A vista dinheiro/cheque: 10% de desconto\n",
    "# A vista no cartão: 5% de desconto\n",
    "# Em até 2x no cartão: preço normal\n",
    "# 3x ou mais no cartão: 20% de juros\n",
    "\n",
    "preco = float(input('Insira o valor do produto:'))\n",
    "metodo = int(input('Qual opção de parcelamento?\\n1 - A vista (dinheiro ou cheque)\\n2 - A vista no cartão\\n3 - Parcelado no cartão'))\n",
    "\n",
    "if metodo == 3:\n",
    "    parcelas = int(input('Em quantas parcelas deseja fazer?'))\n",
    "    if parcelas == 1 or parcelas == 2:\n",
    "        print('O valor a ser pago é de R${}, com {} parcelas de R${}'.format(preco, parcelas, (preco // parcelas)))\n",
    "    else:\n",
    "        print('O valor a ser pago é de R${}, com {} parcelas no valor de R${}'.format((preco * 1.2), parcelas, (preco * 1.2)//parcelas))\n",
    "elif metodo == 1:\n",
    "    print('O valor a ser pago é de R${}, com 10% de desconto'.format(preco * 0.9))\n",
    "elif metodo == 2:\n",
    "    print('O valor a ser pago é de R${}, com 5% de desconto'.format(preco * 0.95))\n",
    "else:\n",
    "    print('Por favor, insira um valor válido')\n"
   ]
  },
  {
   "cell_type": "code",
   "execution_count": 2,
   "metadata": {},
   "outputs": [
    {
     "name": "stdout",
     "output_type": "stream",
     "text": [
      "VAMOS JOGAR JOKENPÔ! Voocê já sabe as regras, vamos lá!\n",
      "JO\n",
      "KEN\n",
      "PÔ\n",
      "Seu objeto é: Papel\n",
      "Você perdeu! O computador escolheu Tesoura!\n"
     ]
    }
   ],
   "source": [
    "# Crie um programa que faça o computador jogar jokenpô com você\n",
    "import random \n",
    "from time import sleep\n",
    "print('VAMOS JOGAR JOKENPÔ! Voocê já sabe as regras, vamos lá!')\n",
    "jogador = str(input('Insira seu objeto do jokenpô:')).capitalize()\n",
    "\n",
    "# Pausa \n",
    "print('JO')\n",
    "sleep(0.50)\n",
    "print('KEN')\n",
    "sleep(0.50)\n",
    "print('PÔ')\n",
    "print('Seu objeto é: {}'.format(jogador))\n",
    "\n",
    "lista = ['Pedra', 'Papel', 'Tesoura']\n",
    "\n",
    "pc = random.choice(lista)\n",
    "\n",
    "\n",
    "if jogador == 'Papel':\n",
    "    if pc == 'Pedra':\n",
    "        print('Parabéns, você ganhou! O computador escolheu Pedra!')\n",
    "    elif pc == 'Tesoura':\n",
    "        print('Você perdeu! O computador escolheu Tesoura!')\n",
    "    else:\n",
    "        print('Deu empate! O computador escolheu Papel também!')\n",
    "\n",
    "elif jogador == 'Pedra':\n",
    "    if pc == 'Tesoura':\n",
    "        print('Parabéns, você ganhou! O computador escolheu Tesoura!')\n",
    "    elif pc == 'Papel':\n",
    "        print('Você perdeu! O computador escolheu Papel!')\n",
    "    else:\n",
    "        print('Deu empate! O computador escolheu Pedra também!')\n",
    "\n",
    "elif jogador == 'Tesoura':\n",
    "    if pc == 'Papel':\n",
    "        print('Parabéns, você ganhou! O computador escolheu Papel!')\n",
    "    elif pc == 'Pedra':\n",
    "        print('Você perdeu! O computador escolheu Pedra!')\n",
    "    else:\n",
    "        print('Deu empate! O computador escolheu Tesoura também!')\n"
   ]
  },
  {
   "cell_type": "code",
   "execution_count": 3,
   "metadata": {},
   "outputs": [
    {
     "name": "stdout",
     "output_type": "stream",
     "text": [
      "É HORA DA CONTAGEM REGRESSIVA!\n",
      "10\n",
      "9\n",
      "8\n",
      "7\n",
      "6\n",
      "5\n",
      "4\n",
      "3\n",
      "2\n",
      "1\n",
      "0\n",
      "CHEGOU A HORA!\n"
     ]
    }
   ],
   "source": [
    "# Faça um programa que mostre na tela uma contagem regressiva para o estouro de fogos de artifício, indo de 10 até 0, com 1 segundo de pausa entre eles\n",
    "from time import sleep\n",
    "\n",
    "print('É HORA DA CONTAGEM REGRESSIVA!')\n",
    "\n",
    "for i in range(10, -1, -1):\n",
    "    print(i)\n",
    "    sleep(1)\n",
    "print('CHEGOU A HORA!')"
   ]
  },
  {
   "cell_type": "code",
   "execution_count": 299,
   "metadata": {},
   "outputs": [
    {
     "name": "stdout",
     "output_type": "stream",
     "text": [
      "2\n",
      "4\n",
      "6\n",
      "8\n",
      "10\n",
      "12\n",
      "14\n",
      "16\n",
      "18\n",
      "20\n",
      "22\n",
      "24\n",
      "26\n",
      "28\n",
      "30\n",
      "32\n",
      "34\n",
      "36\n",
      "38\n",
      "40\n",
      "42\n",
      "44\n",
      "46\n",
      "48\n",
      "50\n"
     ]
    }
   ],
   "source": [
    "# Crie um programa que mostre na tela todos os números pares que estão no intervalo entre 1 e 50\n",
    "\n",
    "for i in range(2, 51, 2):\n",
    "    print(i)"
   ]
  },
  {
   "cell_type": "code",
   "execution_count": 313,
   "metadata": {},
   "outputs": [
    {
     "name": "stdout",
     "output_type": "stream",
     "text": [
      "O valor da soma é 20667\n"
     ]
    }
   ],
   "source": [
    "# Faça um programa que calcule a soma entre todos os números impares que são múltiplos de três e que se encontram no intervalo de 1 até 500. \n",
    "\n",
    "soma = 0\n",
    "for i in range(1, 501):\n",
    "    if i % 2 == 1: # ímpares\n",
    "        if i% 3 == 0: # múltiplos de 3\n",
    "            soma = soma + i\n",
    "print('O valor da soma é {}'.format(soma))\n",
    "    "
   ]
  },
  {
   "cell_type": "code",
   "execution_count": 4,
   "metadata": {},
   "outputs": [
    {
     "name": "stdout",
     "output_type": "stream",
     "text": [
      "TABUADA DO 5\n",
      "5 X 1 = 5\n",
      "5 X 2 = 10\n",
      "5 X 3 = 15\n",
      "5 X 4 = 20\n",
      "5 X 5 = 25\n",
      "5 X 6 = 30\n",
      "5 X 7 = 35\n",
      "5 X 8 = 40\n",
      "5 X 9 = 45\n",
      "5 X 10 = 50\n"
     ]
    }
   ],
   "source": [
    "# Refaça o exercício 001, mostrando a tabuada de um número que o usuário escolher, só que agora utilizando um laço for\n",
    "\n",
    "num = int(input('Insira um número inteiro para ver sua tabuada:'))\n",
    "print(f'TABUADA DO {num}')\n",
    "\n",
    "for i in range(1, 11):\n",
    "    print(f\"{num} X {i} = {num * i}\")    "
   ]
  },
  {
   "cell_type": "code",
   "execution_count": 9,
   "metadata": {},
   "outputs": [
    {
     "name": "stdout",
     "output_type": "stream",
     "text": [
      "Número 1: 3\n",
      "Número 2: 4\n",
      "Número 3: 5\n",
      "Número 4: 3\n",
      "Número 5: 2\n",
      "Número 6: 3\n",
      "O valor da soma é: 6\n"
     ]
    }
   ],
   "source": [
    "# Desenvolva um programa que leia seis números inteiros e mostre a soma apenas daqueles que forem pares. Se o valor digitado por ímpar, desconsidere-o\n",
    "\n",
    "soma = 0\n",
    "\n",
    "for i in range(0, 6):\n",
    "    num = int(input('Insira um número:'))\n",
    "    print(f'Número {i + 1}: {num}')\n",
    "    if num % 2 == 0:\n",
    "        soma = soma + num\n",
    "print(f'O valor da soma é: {soma}')"
   ]
  },
  {
   "cell_type": "code",
   "execution_count": 14,
   "metadata": {},
   "outputs": [
    {
     "name": "stdout",
     "output_type": "stream",
     "text": [
      "1\n",
      "4\n",
      "7\n",
      "10\n",
      "13\n",
      "16\n",
      "19\n",
      "22\n",
      "25\n"
     ]
    }
   ],
   "source": [
    "# Desenvolva um programa que leia o primeiro termo e a razão de uma PA. No final, mostre os 10 primeiros termos dessa progressão.\n",
    "\n",
    "num = int(input('Insira o primeiro termo da PA:'))\n",
    "raz = int(input('Razão da PA:'))\n",
    "decimo = num + (10-1) * raz # calculo do décimo termo da PA \n",
    "\n",
    "for i in range(num, decimo, raz): # começa do primeiro termo, vai até o décimo, andando no passo da razão\n",
    "    print(f'{i}')"
   ]
  },
  {
   "cell_type": "code",
   "execution_count": 19,
   "metadata": {},
   "outputs": [
    {
     "name": "stdout",
     "output_type": "stream",
     "text": [
      "4 / 1 = 4\n",
      "4 / 2 = 2\n",
      "4 / 4 = 1\n",
      "O número 4 foi dividido 3 vezes\n",
      "O número 4 NÃO é primo\n"
     ]
    }
   ],
   "source": [
    "# Faça um programa que leia um número inteiro e diga se ele é ou não um número primo\n",
    "\n",
    "num = int(input('Insira um número:'))\n",
    "\n",
    "contador = 0\n",
    "\n",
    "for i in range(1, num+1):\n",
    "    if num % i == 0:\n",
    "        contador = contador + 1\n",
    "        print(f'{num} / {i} = {num//i}')\n",
    "\n",
    "print(f'O número {num} foi dividido {contador} vezes')\n",
    "\n",
    "if contador != 2:\n",
    "    print(f'O número {num} NÃO é primo')\n",
    "else:\n",
    "    print(f'O número {num} É primo!')\n"
   ]
  },
  {
   "cell_type": "code",
   "execution_count": 34,
   "metadata": {},
   "outputs": [
    {
     "name": "stdout",
     "output_type": "stream",
     "text": [
      "A frase é um palíndromo\n",
      "Frase original: A sacada da casa\n",
      "Palíndromo: asacadadacasa\n"
     ]
    }
   ],
   "source": [
    "# Crie um programa que lê uma frase qualquer e diga se ela é um plaíndromo, desconsiderando os espaços\n",
    "\n",
    "frase = str(input('Insira uma frase:'))\n",
    "\n",
    "frase_1 = frase.replace(' ', '').lower()\n",
    "if frase_1 == frase_1[::-1]:\n",
    "    print('A frase é um palíndromo')\n",
    "else:\n",
    "    print('A frase NÃO é um palíndromo')\n",
    "print(f'Frase original: {frase}')\n",
    "print(f'Palíndromo: {frase_1[::-1]}')"
   ]
  },
  {
   "cell_type": "code",
   "execution_count": 40,
   "metadata": {},
   "outputs": [
    {
     "name": "stdout",
     "output_type": "stream",
     "text": [
      "Existem 1 adultos, e 6 jovens\n"
     ]
    }
   ],
   "source": [
    "# Crie um programa que leia o ano de nascimento de sete pessoas\n",
    "# No final, mostre quantas pessoas ainda não atingiram a maioridade\n",
    "# e quantas já são maiores\n",
    "from datetime import date\n",
    "\n",
    "hoje = date.today().year\n",
    "\n",
    "jovens = 0\n",
    "adultos = 0\n",
    "\n",
    "for i in range(7):\n",
    "    ano = int(input('Insira o ano de nascimento da pessoa:'))\n",
    "    if hoje - ano >= 18:\n",
    "        adultos = adultos + 1\n",
    "    else:\n",
    "        jovens = jovens + 1\n",
    "print(f'Existem {adultos} adultos, e {jovens} jovens')\n",
    "\n"
   ]
  },
  {
   "cell_type": "code",
   "execution_count": 43,
   "metadata": {},
   "outputs": [
    {
     "name": "stdout",
     "output_type": "stream",
     "text": [
      "Menor peso:30.0\n",
      "Maior peso:80.0\n"
     ]
    }
   ],
   "source": [
    "# Faça um programa que leia o peso de cinco pessoas. No final, mostre qual foi o maior e o menor peso lidos\n",
    "\n",
    "lista = []\n",
    "\n",
    "for i in range(5):\n",
    "    peso = float(input(\"Insira o peso:\"))\n",
    "    lista.append(peso)\n",
    "\n",
    "lista.sort()\n",
    "print(f'Menor peso:{lista[0]}\\nMaior peso:{lista[-1]}')"
   ]
  },
  {
   "cell_type": "code",
   "execution_count": 4,
   "metadata": {},
   "outputs": [
    {
     "name": "stdout",
     "output_type": "stream",
     "text": [
      "A média de idade do grupo é de 20.0 anos\n",
      "O homem mais velho se chama  e tem 0 anos\n",
      "A quantidade de mulheres no grupo com 20 anos é 4\n"
     ]
    }
   ],
   "source": [
    "# Desenvolva um programa que leia nome, idade e sexo de 4 pessoas. No final do programa, mostre:\n",
    "# A média de idade do grupo\n",
    "# Qual é o nome do homem mais velho\n",
    "# Quantas mulheres têm menos de 20 anos\n",
    "\n",
    "soma = 0\n",
    "maioridadehomem = 0\n",
    "nomevelho = ''\n",
    "mulheres = 0 \n",
    "\n",
    "for i in range(4):\n",
    "    nome = str(input('Insira o nome:')).strip()\n",
    "    idade = int(input('Insira a idade:'))\n",
    "    sexo = str(input('Insira o sexo:')).strip()\n",
    "\n",
    "    soma += idade\n",
    "\n",
    "    if i == 1 and sexo in 'Mm':\n",
    "        maioridadehomem = idade\n",
    "        nomevelho = nome\n",
    "    if sexo in 'Mm' and idade > maioridadehomem:\n",
    "        maioridadehomem = idade\n",
    "        nomevelho = nome\n",
    "    if idade == 20 and sexo in 'Ff':\n",
    "        mulheres += 1\n",
    "\n",
    "media = soma/4\n",
    "\n",
    "print(f'A média de idade do grupo é de {media} anos')\n",
    "print(f'O homem mais velho se chama {nomevelho} e tem {maioridadehomem} anos')\n",
    "print(f'A quantidade de mulheres no grupo com 20 anos é {mulheres}')\n",
    "\n",
    "\n",
    "\n"
   ]
  },
  {
   "cell_type": "code",
   "execution_count": 57,
   "metadata": {},
   "outputs": [
    {
     "name": "stdout",
     "output_type": "stream",
     "text": [
      "5\n",
      "16\n",
      "8\n",
      "4\n",
      "2\n",
      "1\n"
     ]
    }
   ],
   "source": [
    "# Project Automate the boring stuff\n",
    "\n",
    "def collatz(number):\n",
    "    if number % 2 == 0:\n",
    "        resultado =  number // 2\n",
    "    else:\n",
    "        resultado = 3 * number + 1\n",
    "\n",
    "    print(resultado)\n",
    "    return resultado\n",
    "\n",
    "def main():\n",
    "    try:\n",
    "        number = int(input('Insira um número'))\n",
    "\n",
    "        while number != 1:\n",
    "            number = collatz(number)\n",
    "\n",
    "    except ValueError:\n",
    "        print('Insira um número inteiro válido')\n",
    "\n",
    "\n",
    "if __name__ == \"__main__\":\n",
    "    main()\n",
    "\n"
   ]
  },
  {
   "cell_type": "code",
   "execution_count": 15,
   "metadata": {},
   "outputs": [
    {
     "name": "stdout",
     "output_type": "stream",
     "text": [
      "Sexo cadastrado como M. Obrigado.\n"
     ]
    }
   ],
   "source": [
    "# Faça um programa que leia o sexo de uma pessoa, mas só aceite os valores M ou F. \n",
    "sexo = str(input(('Por favor, insira seu sexo (M/F)'))).strip().upper()[0]\n",
    "\n",
    "while sexo not in 'MmFf':\n",
    "    sexo = str(input('Dados inválidos. Por favor, insira seu sexo(M/F)'))\n",
    "\n",
    "print(f'Sexo cadastrado como {sexo.upper()}. Obrigado.')"
   ]
  },
  {
   "cell_type": "code",
   "execution_count": 23,
   "metadata": {},
   "outputs": [
    {
     "name": "stdout",
     "output_type": "stream",
     "text": [
      "Sou seu computador!\n",
      "Pensei em um número entre 1 e 10... tente acertar qual número pensei!\n",
      "Você disse 1\n",
      "É um valor mais alto... tente novamente\n",
      "Você disse 10\n",
      "Você acertou! O número era 10\n"
     ]
    }
   ],
   "source": [
    "# Jogo de adivinhação \n",
    "import random\n",
    "\n",
    "pc = random.choice(range(1, 11)) # faz o computador escolher um número aleatório\n",
    "\n",
    "print('Sou seu computador!')\n",
    "print('Pensei em um número entre 1 e 10... tente acertar qual número pensei!')\n",
    "\n",
    "num = int(input())\n",
    "print(f'Você disse {num}')\n",
    "\n",
    "while num != pc:\n",
    "    if num > pc:\n",
    "        print('É um valor mais baixo... tente novamente')\n",
    "        num = int(input())\n",
    "        print(f'Você disse {num}')\n",
    "    if num < pc:\n",
    "        print('É um valor mais alto... tente novamente')\n",
    "        num = int(input())\n",
    "        print(f'Você disse {num}')\n",
    "print(f'Você acertou! O número era {pc}')"
   ]
  },
  {
   "cell_type": "code",
   "execution_count": 6,
   "metadata": {},
   "outputs": [
    {
     "name": "stdout",
     "output_type": "stream",
     "text": [
      "Qual opção deseja utilizar?\n",
      "1 - Somar\n",
      "2 - Multiplicar\n",
      "3 - Maior\n",
      "4 - Novos números\n",
      "5 - Sair do programa\n",
      "O maior valor é 4\n",
      "Qual opção deseja utilizar?\n",
      "1 - Somar\n",
      "2 - Multiplicar\n",
      "3 - Maior\n",
      "4 - Novos números\n",
      "5 - Sair do programa\n",
      "Insira os novos valores:\n",
      "Qual opção deseja utilizar?\n",
      "1 - Somar\n",
      "2 - Multiplicar\n",
      "3 - Maior\n",
      "4 - Novos números\n",
      "5 - Sair do programa\n",
      "O maior valor é 5\n",
      "Qual opção deseja utilizar?\n",
      "1 - Somar\n",
      "2 - Multiplicar\n",
      "3 - Maior\n",
      "4 - Novos números\n",
      "5 - Sair do programa\n",
      "Você saiu do programa\n"
     ]
    }
   ],
   "source": [
    "# 59 - Menu de opções\n",
    "val1 = int(input('Primeiro valor:'))\n",
    "val2 = int(input('Segundo valor:'))\n",
    "\n",
    "print('Qual opção deseja utilizar?\\n1 - Somar\\n2 - Multiplicar\\n3 - Maior\\n4 - Novos números\\n5 - Sair do programa')\n",
    "\n",
    "opcao = int(input())\n",
    "\n",
    "while opcao != 5:\n",
    "    if opcao == 1:\n",
    "        print(f'A soma dos valores é {val1 + val2}')\n",
    "        print('Qual opção deseja utilizar?\\n1 - Somar\\n2 - Multiplicar\\n3 - Maior\\n4 - Novos números\\n5 - Sair do programa')\n",
    "        opcao = int(input())\n",
    "    if opcao == 2:\n",
    "        print(f'A multiplicação dos valores é {val1 * val2}')\n",
    "        print('Qual opção deseja utilizar?\\n1 - Somar\\n2 - Multiplicar\\n3 - Maior\\n4 - Novos números\\n5 - Sair do programa')\n",
    "        opcao = int(input())\n",
    "    if opcao == 3:\n",
    "        if val1 > val2:\n",
    "            print(f'O maior valor é {val1}')\n",
    "        else:\n",
    "            print(f'O maior valor é {val2}')\n",
    "        print('Qual opção deseja utilizar?\\n1 - Somar\\n2 - Multiplicar\\n3 - Maior\\n4 - Novos números\\n5 - Sair do programa')\n",
    "        opcao = int(input())\n",
    "    if opcao == 4:\n",
    "        print('Insira os novos valores:')\n",
    "        val1 = int(input('Primeiro valor:'))\n",
    "        val2 = int(input('Segundo valor:'))\n",
    "        print('Qual opção deseja utilizar?\\n1 - Somar\\n2 - Multiplicar\\n3 - Maior\\n4 - Novos números\\n5 - Sair do programa')\n",
    "        opcao = int(input())\n",
    "\n",
    "print('Você saiu do programa')"
   ]
  },
  {
   "cell_type": "code",
   "execution_count": 5,
   "metadata": {},
   "outputs": [
    {
     "name": "stdout",
     "output_type": "stream",
     "text": [
      "Qual opção deseja utilizar?\n",
      "1 - Soma\n",
      "2 - Multiplicar\n",
      "3 - Maior valor\n",
      "4 - Novos valores\n",
      "5 - Sair do programa\n",
      "A soma dos valores é de 9\n",
      "Qual opção deseja utilizar?\n",
      "1 - Soma\n",
      "2 - Multiplicar\n",
      "3 - Maior valor\n",
      "4 - Novos valores\n",
      "5 - Sair do programa\n",
      "O produto dos valores é de 20\n",
      "Qual opção deseja utilizar?\n",
      "1 - Soma\n",
      "2 - Multiplicar\n",
      "3 - Maior valor\n",
      "4 - Novos valores\n",
      "5 - Sair do programa\n",
      "O maior valor é 5\n",
      "Qual opção deseja utilizar?\n",
      "1 - Soma\n",
      "2 - Multiplicar\n",
      "3 - Maior valor\n",
      "4 - Novos valores\n",
      "5 - Sair do programa\n",
      "Qual opção deseja utilizar?\n",
      "1 - Soma\n",
      "2 - Multiplicar\n",
      "3 - Maior valor\n",
      "4 - Novos valores\n",
      "5 - Sair do programa\n",
      "O maior valor é 2\n",
      "Qual opção deseja utilizar?\n",
      "1 - Soma\n",
      "2 - Multiplicar\n",
      "3 - Maior valor\n",
      "4 - Novos valores\n",
      "5 - Sair do programa\n",
      "O produto dos valores é de 2\n",
      "Qual opção deseja utilizar?\n",
      "1 - Soma\n",
      "2 - Multiplicar\n",
      "3 - Maior valor\n",
      "4 - Novos valores\n",
      "5 - Sair do programa\n",
      "Programa encerrado\n"
     ]
    }
   ],
   "source": [
    "# Outra maneira de realizar o código\n",
    "def fun1():\n",
    "    val1 = int(input('Primeiro valor:'))\n",
    "    val2 = int(input('Segundo valor:'))\n",
    "    return val1, val2\n",
    "\n",
    "def menu():\n",
    "    print('Qual opção deseja utilizar?')\n",
    "    print('1 - Soma')\n",
    "    print('2 - Multiplicar')\n",
    "    print('3 - Maior valor')\n",
    "    print('4 - Novos valores')\n",
    "    print('5 - Sair do programa')\n",
    "\n",
    "val1, val2 = fun1()\n",
    "\n",
    "menu()\n",
    "opcao = int(input())\n",
    "\n",
    "while opcao != 5:\n",
    "    if opcao == 1:\n",
    "        print(f'A soma dos valores é de {val1 + val2}')\n",
    "    elif opcao == 2:\n",
    "        print(f'O produto dos valores é de {val1 * val2}')\n",
    "    elif opcao == 3:\n",
    "        if val1 > val2:\n",
    "            print(f'O maior valor é {val1}')\n",
    "        else:\n",
    "            print(f'O maior valor é {val2}')\n",
    "    elif opcao == 4:\n",
    "        val1, val2 = fun1()\n",
    "    else:\n",
    "        print('Opção inválida, tente novamente.')\n",
    "\n",
    "    menu()\n",
    "    opcao = int(input())\n",
    "\n",
    "print('Programa encerrado')"
   ]
  },
  {
   "cell_type": "code",
   "execution_count": 29,
   "metadata": {},
   "outputs": [
    {
     "name": "stdout",
     "output_type": "stream",
     "text": [
      "6 x 5 x 4 x 3 x 2 x 1 = 720\n"
     ]
    }
   ],
   "source": [
    "# Faça um programa que leia um número qualquer e mostre o seu fatorial (sem usar o módulo)\n",
    "n = int(input())\n",
    "c = n\n",
    "f = 1\n",
    "\n",
    "while c > 0:\n",
    "    print(f'{c}', end='')\n",
    "    print(' x ' if c > 1 else ' = ', end='')\n",
    "    f = f * c\n",
    "    c-=1\n",
    "\n",
    "print(f'{f}')"
   ]
  },
  {
   "cell_type": "code",
   "execution_count": 14,
   "metadata": {},
   "outputs": [
    {
     "name": "stdout",
     "output_type": "stream",
     "text": [
      "120\n"
     ]
    }
   ],
   "source": [
    "# Outra forma\n",
    "from math import factorial\n",
    "\n",
    "n = int(input())\n",
    "print(f'{factorial(n)}')"
   ]
  },
  {
   "cell_type": "code",
   "execution_count": 7,
   "metadata": {},
   "outputs": [
    {
     "name": "stdout",
     "output_type": "stream",
     "text": [
      "apples, bananas, tofu and robots\n"
     ]
    }
   ],
   "source": [
    "# Project Comma Code\n",
    "def fun(list):\n",
    "    if len(list) == 0:\n",
    "        return\n",
    "    elif len(list) == 1:\n",
    "        print(list[0])\n",
    "    else:\n",
    "        for i in range(len(list) - 2):\n",
    "            print(f'{list[i]}, ', end='')\n",
    "        print(f'{list[-2]} and {list[-1]}')\n",
    "\n",
    "lista1 = ['apples', 'bananas', 'tofu', 'robots']\n",
    "\n",
    "fun(lista1)\n",
    "\n",
    "# ['apples', 'bananas', 'tofu', 'cats']"
   ]
  },
  {
   "cell_type": "code",
   "execution_count": 12,
   "metadata": {},
   "outputs": [],
   "source": [
    "def potencia(num):\n",
    "    num ** 2\n",
    "\n",
    "potencia(2)"
   ]
  },
  {
   "cell_type": "code",
   "execution_count": null,
   "metadata": {},
   "outputs": [],
   "source": []
  }
 ],
 "metadata": {
  "kernelspec": {
   "display_name": "Python 3",
   "language": "python",
   "name": "python3"
  },
  "language_info": {
   "codemirror_mode": {
    "name": "ipython",
    "version": 3
   },
   "file_extension": ".py",
   "mimetype": "text/x-python",
   "name": "python",
   "nbconvert_exporter": "python",
   "pygments_lexer": "ipython3",
   "version": "3.9.13"
  }
 },
 "nbformat": 4,
 "nbformat_minor": 2
}
